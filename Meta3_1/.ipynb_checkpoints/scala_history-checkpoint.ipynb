{
 "cells": [
  {
   "cell_type": "code",
   "execution_count": null,
   "metadata": {},
   "outputs": [],
   "source": [
    "# Daniel Jimenez Manrique"
   ]
  },
  {
   "cell_type": "markdown",
   "metadata": {
    "collapsed": true,
    "jupyter": {
     "outputs_hidden": true
    },
    "pycharm": {
     "name": "#%% md\n"
    }
   },
   "source": [
    "# 1. Datos del repositorio de proyectos de Scala\n",
    "<img src=\"https://upload.wikimedia.org/wikipedia/commons/thumb/3/39/Scala-full-color.svg/320px-Scala-full-color.svg.png\"  width=\"200\" alt=\"\">\n",
    "\n",
    "Con casi 30.000 confirmaciones y un historial de más de diez años, Scala es un lenguaje de programación maduro. Es un lenguaje de programación de propósito general que recientemente se ha convertido en otro lenguaje destacado para los científicos de datos.\n",
    "\n",
    "Scala es también un proyecto de código abierto. Los proyectos de código abierto tienen la ventaja de que todos sus historiales de desarrollo (quién hizo cambios, qué se cambió, revisiones de código, etc.) están disponibles públicamente.\n",
    "\n",
    "Vamos a leer, limpiar y visualizar el repositorio de proyectos del mundo real de Scala que abarca datos de un sistema de control de versiones (Git), así como un sitio de alojamiento de proyectos (GitHub). Descubriremos quién ha tenido más influencia en su desarrollo y quiénes son los expertos.\n",
    "\n",
    "El conjunto de datos que utilizaremos, que ha sido previamente minado y extraído de GitHub, está compuesto por dos archivos:\n",
    "\n",
    "**pulls.csv** contiene la información básica sobre las solicitudes de pull.\n",
    "**pull_files.csv** contiene los archivos que fueron modificados por cada solicitud de pull."
   ]
  },
  {
   "cell_type": "code",
   "execution_count": 2,
   "metadata": {
    "collapsed": false,
    "jupyter": {
     "outputs_hidden": false
    },
    "pycharm": {
     "name": "#%%\n"
    }
   },
   "outputs": [
    {
     "name": "stdout",
     "output_type": "stream",
     "text": [
      "<class 'pandas.core.frame.DataFrame'>\n",
      "RangeIndex: 6200 entries, 0 to 6199\n",
      "Data columns (total 3 columns):\n",
      " #   Column  Non-Null Count  Dtype \n",
      "---  ------  --------------  ----- \n",
      " 0   pid     6200 non-null   int64 \n",
      " 1   user    6200 non-null   object\n",
      " 2   date    6200 non-null   object\n",
      "dtypes: int64(1), object(2)\n",
      "memory usage: 145.4+ KB\n",
      "===============\n",
      "<class 'pandas.core.frame.DataFrame'>\n",
      "RangeIndex: 85588 entries, 0 to 85587\n",
      "Data columns (total 2 columns):\n",
      " #   Column  Non-Null Count  Dtype \n",
      "---  ------  --------------  ----- \n",
      " 0   pid     85588 non-null  int64 \n",
      " 1   file    85588 non-null  object\n",
      "dtypes: int64(1), object(1)\n",
      "memory usage: 1.3+ MB\n"
     ]
    }
   ],
   "source": [
    "# Importar pandas\n",
    "import pandas as pd\n",
    "# Cargar datos en dataframes\n",
    "pulls = pd.read_csv('pulls.csv') # usar función pd.read_csv\n",
    "pulls_files = pd.read_csv('pull_files.csv')# usar función pd.read_csv\n",
    "pulls.info()\n",
    "print(\"===============\")\n",
    "pulls_files.info()"
   ]
  },
  {
   "cell_type": "markdown",
   "metadata": {
    "collapsed": false,
    "jupyter": {
     "outputs_hidden": false
    },
    "pycharm": {
     "name": "#%% md\n"
    }
   },
   "source": [
    "# 2. Limpiar datos\n",
    "Los datos sin procesar extraídos de GitHub contienen fechas en el formato ISO8601. Sin embargo, pandas los importa como cadenas regulares. Para facilitar nuestro análisis, necesitamos convertir las cadenas en objetos DateTime de Python. Los objetos DateTime tienen la propiedad importante de que se pueden comparar y ordenar.\n",
    "\n",
    "Los tiempos de solicitud de extracción están todos en UTC (también conocido como Tiempo Universal Coordinado). Los tiempos de confirmación, sin embargo, están en la hora local del autor con información de zona horaria (número de horas de diferencia con UTC). Para facilitar las comparaciones, debemos convertir todas las horas a UTC."
   ]
  },
  {
   "cell_type": "code",
   "execution_count": 3,
   "metadata": {
    "collapsed": false,
    "jupyter": {
     "outputs_hidden": false
    },
    "pycharm": {
     "name": "#%%\n"
    }
   },
   "outputs": [
    {
     "name": "stdout",
     "output_type": "stream",
     "text": [
      "<class 'pandas.core.frame.DataFrame'>\n",
      "RangeIndex: 6200 entries, 0 to 6199\n",
      "Data columns (total 3 columns):\n",
      " #   Column  Non-Null Count  Dtype              \n",
      "---  ------  --------------  -----              \n",
      " 0   pid     6200 non-null   int64              \n",
      " 1   user    6200 non-null   object             \n",
      " 2   date    6200 non-null   datetime64[ns, UTC]\n",
      "dtypes: datetime64[ns, UTC](1), int64(1), object(1)\n",
      "memory usage: 145.4+ KB\n"
     ]
    }
   ],
   "source": [
    "# Convertir cadenas a Datetime\n",
    "pulls.date= pd.to_datetime(pulls.date) # usar función pd.to_datetime\n",
    "pulls.info()"
   ]
  },
  {
   "cell_type": "markdown",
   "metadata": {
    "collapsed": false,
    "jupyter": {
     "outputs_hidden": false
    },
    "pycharm": {
     "name": "#%% md\n"
    }
   },
   "source": [
    "# 3. Fusionando los DataFrames\n",
    "Los datos extraídos vienen en dos archivos separados. La fusión de los dos DataFrames nos facilitará el análisis de los datos en las tareas futuras."
   ]
  },
  {
   "cell_type": "code",
   "execution_count": 15,
   "metadata": {
    "collapsed": false,
    "jupyter": {
     "outputs_hidden": false
    },
    "pycharm": {
     "name": "#%%\n"
    }
   },
   "outputs": [
    {
     "data": {
      "text/html": [
       "<div>\n",
       "<style scoped>\n",
       "    .dataframe tbody tr th:only-of-type {\n",
       "        vertical-align: middle;\n",
       "    }\n",
       "\n",
       "    .dataframe tbody tr th {\n",
       "        vertical-align: top;\n",
       "    }\n",
       "\n",
       "    .dataframe thead th {\n",
       "        text-align: right;\n",
       "    }\n",
       "</style>\n",
       "<table border=\"1\" class=\"dataframe\">\n",
       "  <thead>\n",
       "    <tr style=\"text-align: right;\">\n",
       "      <th></th>\n",
       "      <th>pid</th>\n",
       "      <th>user</th>\n",
       "      <th>date</th>\n",
       "      <th>month</th>\n",
       "      <th>year</th>\n",
       "      <th>file</th>\n",
       "    </tr>\n",
       "  </thead>\n",
       "  <tbody>\n",
       "    <tr>\n",
       "      <th>21892</th>\n",
       "      <td>35116128</td>\n",
       "      <td>lrytz</td>\n",
       "      <td>2015-05-11 10:48:39+00:00</td>\n",
       "      <td>5</td>\n",
       "      <td>2015</td>\n",
       "      <td>src/asm/scala/tools/asm/tree/IntInsnNode.java</td>\n",
       "    </tr>\n",
       "    <tr>\n",
       "      <th>58292</th>\n",
       "      <td>3333629</td>\n",
       "      <td>hubertp</td>\n",
       "      <td>2012-12-12 08:35:08+00:00</td>\n",
       "      <td>12</td>\n",
       "      <td>2012</td>\n",
       "      <td>src/reflect/scala/reflect/internal/Types.scala</td>\n",
       "    </tr>\n",
       "    <tr>\n",
       "      <th>61693</th>\n",
       "      <td>2887628</td>\n",
       "      <td>paulp</td>\n",
       "      <td>2012-11-05 19:51:29+00:00</td>\n",
       "      <td>11</td>\n",
       "      <td>2012</td>\n",
       "      <td>src/compiler/scala/tools/nsc/interactive/Conte...</td>\n",
       "    </tr>\n",
       "    <tr>\n",
       "      <th>25103</th>\n",
       "      <td>27006984</td>\n",
       "      <td>kanielc</td>\n",
       "      <td>2015-01-08 04:26:56+00:00</td>\n",
       "      <td>1</td>\n",
       "      <td>2015</td>\n",
       "      <td>src/library/scala/collection/SetLike.scala</td>\n",
       "    </tr>\n",
       "    <tr>\n",
       "      <th>5651</th>\n",
       "      <td>109791911</td>\n",
       "      <td>lrytz</td>\n",
       "      <td>2017-03-08 21:48:34+00:00</td>\n",
       "      <td>3</td>\n",
       "      <td>2017</td>\n",
       "      <td>scripts/jobs/integrate/bootstrap</td>\n",
       "    </tr>\n",
       "  </tbody>\n",
       "</table>\n",
       "</div>"
      ],
      "text/plain": [
       "             pid     user                      date  month  year  \\\n",
       "21892   35116128    lrytz 2015-05-11 10:48:39+00:00      5  2015   \n",
       "58292    3333629  hubertp 2012-12-12 08:35:08+00:00     12  2012   \n",
       "61693    2887628    paulp 2012-11-05 19:51:29+00:00     11  2012   \n",
       "25103   27006984  kanielc 2015-01-08 04:26:56+00:00      1  2015   \n",
       "5651   109791911    lrytz 2017-03-08 21:48:34+00:00      3  2017   \n",
       "\n",
       "                                                    file  \n",
       "21892      src/asm/scala/tools/asm/tree/IntInsnNode.java  \n",
       "58292     src/reflect/scala/reflect/internal/Types.scala  \n",
       "61693  src/compiler/scala/tools/nsc/interactive/Conte...  \n",
       "25103         src/library/scala/collection/SetLike.scala  \n",
       "5651                    scripts/jobs/integrate/bootstrap  "
      ]
     },
     "execution_count": 15,
     "metadata": {},
     "output_type": "execute_result"
    }
   ],
   "source": [
    "# Fusionar DataFrames\n",
    "data = pd.merge(pulls, pulls_files, on='pid') # usar función pf.merge tome en cuenta la columna pid de ambos dataframes\n",
    "data.sample(5)"
   ]
  },
  {
   "cell_type": "markdown",
   "metadata": {
    "collapsed": false,
    "jupyter": {
     "outputs_hidden": false
    },
    "pycharm": {
     "name": "#%% md\n"
    }
   },
   "source": [
    "# 4. ¿Se sigue manteniendo activamente el proyecto?\n",
    "La actividad en un proyecto de código abierto no es muy consistente. Algunos proyectos pueden estar activos durante muchos años después del lanzamiento inicial, mientras que otros pueden desaparecer lentamente. Antes de comprometerse a contribuir con un proyecto, es importante entender el estado del proyecto. ¿El desarrollo va de manera constante o hay una caída? ¿Se ha abandonado el proyecto por completo?\n",
    "\n",
    "Los datos utilizados en este proyecto fueron recolectados en enero de 2018. Nos interesa la evolución del número de aportes hasta esa fecha.\n",
    "\n",
    "Para Scala, haremos esto trazando un gráfico de la actividad del proyecto. Calcularemos la cantidad de pull requests enviadas cada mes (calendario) durante la vida útil del proyecto. Luego trazaremos estos números para ver la tendencia de las contribuciones."
   ]
  },
  {
   "cell_type": "code",
   "execution_count": 24,
   "metadata": {
    "collapsed": false,
    "jupyter": {
     "outputs_hidden": false
    },
    "pycharm": {
     "name": "#%%\n"
    }
   },
   "outputs": [
    {
     "data": {
      "text/plain": [
       "<Axes: xlabel='month,year'>"
      ]
     },
     "execution_count": 24,
     "metadata": {},
     "output_type": "execute_result"
    },
    {
     "data": {
      "image/png": "[encoded data removed]",
      "text/plain": [
       "<Figure size 1200x400 with 1 Axes>"
      ]
     },
     "metadata": {},
     "output_type": "display_data"
    }
   ],
   "source": [
    "# Crear columna para guardar el mes\n",
    "pulls[\"month\"] = pulls.date.dt.month\n",
    "# Crear columna para guardar el año\n",
    "pulls[\"year\"] = pulls.date.dt.year\n",
    "# Agrupar por mes y año; contar el numero de pull requests.\n",
    "counts = pulls.groupby(['month', 'year']).size() # groupby\n",
    "# Graficar resultados\n",
    "counts.plot(kind='bar', figsize=(12, 4)) # Realizar grafica de barras\n"
   ]
  },
  {
   "cell_type": "markdown",
   "metadata": {
    "collapsed": false,
    "jupyter": {
     "outputs_hidden": false
    },
    "pycharm": {
     "name": "#%% md\n"
    }
   },
   "source": [
    "# 5. ¿Hay compañerismo en el proyecto?\n",
    "La estructura organizativa varía de un proyecto a otro y puede influir en su éxito como colaborador. Un proyecto que tiene una comunidad muy pequeña podría no ser el mejor para empezar a trabajar. La pequeña comunidad podría indicar una gran barrera de entrada. Esto puede deberse a varios factores, incluida una comunidad que se resiste a aceptar solicitudes de pull requests de \"externos\", que es difícil trabajar con la base de código, etc. Sin embargo, una comunidad grande puede servir como un indicador de que el proyecto acepta solicitudes de pull requests de nuevos colaboradores regularmente. Tal proyecto sería un buen lugar para comenzar.\n",
    "\n",
    "Para evaluar la dinámica de la comunidad, trazaremos un histograma de la cantidad de pull requests enviadas por cada usuario. Una distribución que muestre que hay pocas personas que solo contribuyen con una pequeña cantidad de pull requests se puede utilizar como indicador de que el proyecto no está recibiendo nuevos contribuyentes."
   ]
  },
  {
   "cell_type": "code",
   "execution_count": 11,
   "metadata": {
    "collapsed": false,
    "jupyter": {
     "outputs_hidden": false
    },
    "pycharm": {
     "name": "#%%\n"
    }
   },
   "outputs": [
    {
     "data": {
      "text/plain": [
       "<Axes: ylabel='Frequency'>"
      ]
     },
     "execution_count": 11,
     "metadata": {},
     "output_type": "execute_result"
    },
    {
     "data": {
      "image/png": "[encoded data removed]",
      "text/plain": [
       "<Figure size 1200x400 with 1 Axes>"
      ]
     },
     "metadata": {},
     "output_type": "display_data"
    }
   ],
   "source": [
    "# Agrupar por usuario y contar \n",
    "by_user = pulls.groupby(\"user\").size()\n",
    "# Graficar histograma de la columna pid\n",
    "# Investigar plot.hist\n",
    "by_user.plot.hist(bins=30, figsize=(12, 4))"
   ]
  },
  {
   "cell_type": "markdown",
   "metadata": {
    "collapsed": false,
    "jupyter": {
     "outputs_hidden": false
    },
    "pycharm": {
     "name": "#%% md\n"
    }
   },
   "source": [
    "# 6. ¿Qué archivos se cambiaron en los últimos diez pull requests?\n",
    "Elegir el lugar adecuado para hacer una contribución es tan importante como elegir el proyecto al que contribuir. Algunas partes del código pueden ser estables, otras pueden estar muertas. Contribuir allí podría no tener el mayor impacto. Por lo tanto, es importante comprender las partes del sistema que se han modificado recientemente. Esto nos permite identificar las áreas \"calientes\" del código donde ocurre la mayor parte de la actividad. Centrarse en esas partes podría no ser el uso más efectivo de nuestros tiempos."
   ]
  },
  {
   "cell_type": "code",
   "execution_count": 13,
   "metadata": {
    "collapsed": false,
    "jupyter": {
     "outputs_hidden": false
    },
    "pycharm": {
     "name": "#%%\n"
    }
   },
   "outputs": [
    {
     "data": {
      "text/plain": [
       "{'LICENSE',\n",
       " 'doc/LICENSE.md',\n",
       " 'doc/License.rtf',\n",
       " 'project/VersionUtil.scala',\n",
       " 'src/compiler/scala/reflect/reify/phases/Calculate.scala',\n",
       " 'src/compiler/scala/tools/nsc/backend/jvm/BCodeHelpers.scala',\n",
       " 'src/compiler/scala/tools/nsc/backend/jvm/PostProcessor.scala',\n",
       " 'src/compiler/scala/tools/nsc/backend/jvm/analysis/BackendUtils.scala',\n",
       " 'src/compiler/scala/tools/nsc/profile/AsyncHelper.scala',\n",
       " 'src/compiler/scala/tools/nsc/profile/Profiler.scala',\n",
       " 'src/compiler/scala/tools/nsc/symtab/classfile/ClassfileParser.scala',\n",
       " 'src/compiler/scala/tools/nsc/typechecker/Contexts.scala',\n",
       " 'src/library/scala/Predef.scala',\n",
       " 'src/library/scala/concurrent/Lock.scala',\n",
       " 'src/library/scala/util/Properties.scala',\n",
       " 'src/reflect/scala/reflect/internal/pickling/ByteCodecs.scala',\n",
       " 'src/reflect/scala/reflect/internal/tpe/GlbLubs.scala',\n",
       " 'src/scaladoc/scala/tools/nsc/doc/html/page/Entity.scala',\n",
       " 'src/scalap/decoder.properties',\n",
       " 'test/files/neg/leibniz-liskov.check',\n",
       " 'test/files/neg/leibniz-liskov.scala',\n",
       " 'test/files/pos/leibniz-liskov.scala',\n",
       " 'test/files/pos/leibniz_liskov.scala',\n",
       " 'test/files/pos/parallel-classloader.scala',\n",
       " 'test/files/pos/t10568/Converter.java',\n",
       " 'test/files/pos/t10568/Impl.scala',\n",
       " 'test/files/pos/t10686.scala',\n",
       " 'test/files/pos/t5638/Among.java',\n",
       " 'test/files/pos/t5638/Usage.scala',\n",
       " 'test/files/pos/t9291.scala',\n",
       " 'test/files/run/t8348.check',\n",
       " 'test/files/run/t8348/TableColumn.java',\n",
       " 'test/files/run/t8348/TableColumnImpl.java',\n",
       " 'test/files/run/t8348/Test.scala'}"
      ]
     },
     "execution_count": 13,
     "metadata": {},
     "output_type": "execute_result"
    }
   ],
   "source": [
    "# Identificar los últimos 10 pull requests\n",
    "top_ten= pulls.sort_values(by='date', ascending=False).head(10) # investigar sort_values, función head\n",
    "\n",
    "# Unir top_ten con pull files \n",
    "join_pr = pd.merge(top_ten, pulls_files, on='pid') # investigar función merge\n",
    "\n",
    "# Eliminar archivos repetidos \n",
    "files = set(join_pr.file) # set transforma la columna a un conjunto en un conjunto no pueden existir datos repetidos.\n",
    "\n",
    "# Imprimir resultados\n",
    "files"
   ]
  },
  {
   "cell_type": "markdown",
   "metadata": {
    "collapsed": false,
    "jupyter": {
     "outputs_hidden": false
    },
    "pycharm": {
     "name": "#%% md\n"
    }
   },
   "source": [
    "# 7. ¿Quién realizó la mayor cantidad de pull requests a un archivo determinado?\n",
    "Al contribuir a un proyecto, es posible que necesitemos alguna orientación. Es posible que necesitemos información sobre el código base. Es importante dirigir cualquier pregunta a la persona adecuada. Los colaboradores de proyectos de código abierto generalmente tienen otros trabajos diarios, por lo que su tiempo es limitado. Es importante dirigir nuestras preguntas a las personas adecuadas. Una forma de identificar el objetivo correcto para nuestras consultas es utilizando su historial de contribuciones.\n",
    "\n",
    "Identificamos <code>src/compiler/scala/reflect/reify/phases/Calculate.scala</code> como modificado recientemente. Estamos interesados en los 3 principales desarrolladores que cambiaron ese archivo. Esos desarrolladores son los que probablemente tengan la mejor comprensión del código."
   ]
  },
  {
   "cell_type": "code",
   "execution_count": 18,
   "metadata": {
    "collapsed": false,
    "jupyter": {
     "outputs_hidden": false
    },
    "pycharm": {
     "name": "#%%\n"
    }
   },
   "outputs": [
    {
     "data": {
      "text/plain": [
       "user\n",
       "xeno-by     11\n",
       "retronym     5\n",
       "soc          4\n",
       "Name: pid, dtype: int64"
      ]
     },
     "execution_count": 18,
     "metadata": {},
     "output_type": "execute_result"
    }
   ],
   "source": [
    "# Archivo en el que estamos interesados:\n",
    "file = 'src/compiler/scala/reflect/reify/phases/Calculate.scala'\n",
    "\n",
    "# Identificamos que commits modificaron el archivo\n",
    "file_pr = data[data['file'] == file] # Filtrar data con la columna file igual a la variable file\n",
    "\n",
    "# Contamos el numero de cambios por cada developer\n",
    "developer_num = file_pr.groupby(\"user\")[\"pid\"].count() # Agrupar por usuario, seleccionar columna pid y contar\n",
    "\n",
    "# Imprimimos el top ten 3 developers\n",
    "developer_num.sort_values(ascending=False).head(3)  # investigar sort_values, función head\n"
   ]
  },
  {
   "cell_type": "markdown",
   "metadata": {
    "collapsed": false,
    "jupyter": {
     "outputs_hidden": false
    },
    "pycharm": {
     "name": "#%% md\n"
    }
   },
   "source": [
    "# 8. ¿Quién realizó las últimas diez solicitudes de incorporación de cambios en un archivo determinado?\n",
    "Los proyectos de código abierto sufren de cambios en los integrantes. Esto hace que el problema de encontrar a la persona adecuada sea más desafiante: la persona debe estar bien informada y aun así estar involucrada en el proyecto. Es posible que una persona que contribuyó mucho en el pasado ya no esté disponible (o dispuesta) a ayudar. Para obtener una mejor comprensión, necesitamos investigar la historia más reciente de esa parte particular del sistema.\n",
    "\n",
    "Al igual que en la tarea anterior, veremos el historial de <code>src/compiler/scala/reflect/reify/phases/Calculate.scala.</code>"
   ]
  },
  {
   "cell_type": "code",
   "execution_count": 19,
   "metadata": {
    "collapsed": false,
    "jupyter": {
     "outputs_hidden": false
    },
    "pycharm": {
     "name": "#%%\n"
    }
   },
   "outputs": [
    {
     "name": "stdout",
     "output_type": "stream",
     "text": [
      "{'bjornregnell', 'starblood', 'zuvizudar', 'xeno-by', 'retronym', 'soc'}\n"
     ]
    }
   ],
   "source": [
    "# Archivo en el que estamos interesados:\n",
    "file = 'src/compiler/scala/reflect/reify/phases/Calculate.scala'\n",
    "\n",
    "# Seleccionamos los pull request que cambiaron al archivo de interes\n",
    "# usar la variable data\n",
    "file_pr = data[data['file'] == file]\n",
    "\n",
    "# Buscamos los usuarios de las ultimas 10 pull requests\n",
    "users_last_10 = file_pr.sort_values(by='date', ascending=False).head(10)['user']\n",
    "\n",
    "# Eliminar usuarios repetidos\n",
    "set_users = set(users_last_10)\n",
    "# Imprimimos resultados\n",
    "print(set_users)"
   ]
  },
  {
   "cell_type": "markdown",
   "metadata": {
    "collapsed": false,
    "jupyter": {
     "outputs_hidden": false
    },
    "pycharm": {
     "name": "#%% md\n"
    }
   },
   "source": [
    "# 9. Los pull requests de dos desarrolladores especiales\n",
    "Ahora que hemos identificado dos contactos potenciales en los proyectos, necesitamos encontrar a la persona que estuvo más involucrada en el proyecto en los últimos tiempos. Es más probable que esa persona responda a nuestras preguntas. Estamos interesados en comprender la cantidad de pull requests que enviaron los autores. Esto nos dará una imagen de su tendencia de contribución al proyecto."
   ]
  },
  {
   "cell_type": "code",
   "execution_count": 26,
   "metadata": {
    "collapsed": false,
    "jupyter": {
     "outputs_hidden": false
    },
    "pycharm": {
     "name": "#%%\n"
    }
   },
   "outputs": [
    {
     "data": {
      "text/plain": [
       "<Axes: xlabel='year'>"
      ]
     },
     "execution_count": 26,
     "metadata": {},
     "output_type": "execute_result"
    },
    {
     "data": {
      "image/png": "[encoded data removed]",
      "text/plain": [
       "<Figure size 1200x400 with 1 Axes>"
      ]
     },
     "metadata": {},
     "output_type": "display_data"
    }
   ],
   "source": [
    "# Los desarrolladores en los que estamos interesados:\n",
    "authors = ['xeno-by', 'soc']\n",
    "\n",
    "# Traer todos los pull requests de esos desarrolladores (pulls):\n",
    "# Investigar método isin de pandas\n",
    "by_author = pulls[pulls['user'].isin(authors)]\n",
    "\n",
    "# Contar el número de pull requests de cada año, agrupar por usuario, año.\n",
    "counts = by_author.groupby(['user', 'year'])['pid'].count().reset_index()\n",
    "\n",
    "# Convertir tabla. Los usuarios pasan a columnas, los años a indices y los valores será el conteo de pid. Valores default 0.\n",
    "counts_wide = counts.pivot_table(index='year', columns='user', values='pid', fill_value=0)\n",
    "\n",
    "# Grafica de barra de los resultados\n",
    "counts_wide.plot(kind='bar', figsize=(12, 4))\n"
   ]
  },
  {
   "cell_type": "markdown",
   "metadata": {
    "collapsed": false,
    "jupyter": {
     "outputs_hidden": false
    },
    "pycharm": {
     "name": "#%% md\n"
    }
   },
   "source": [
    "# 10. Visualizando las contribuciones de cada desarrollador\n",
    "Como se mencionó anteriormente, es importante hacer una distinción entre la experiencia global y los niveles de contribución y los niveles de contribución a un nivel más granular (archivo, submódulo, etc.) En nuestro caso para cada año, queremos ver cuál de nuestros dos desarrolladores de interés tiene la mayor experiencia con el código en un archivo dado. Mediremos la experiencia por la cantidad de pull requests enviadas que afectan a ese archivo y qué tan recientemente se enviaron esas solicitudes."
   ]
  },
  {
   "cell_type": "code",
   "execution_count": 27,
   "metadata": {
    "collapsed": false,
    "jupyter": {
     "outputs_hidden": false
    },
    "pycharm": {
     "name": "#%%\n"
    }
   },
   "outputs": [
    {
     "data": {
      "text/plain": [
       "<Axes: xlabel='year'>"
      ]
     },
     "execution_count": 27,
     "metadata": {},
     "output_type": "execute_result"
    },
    {
     "data": {
      "image/png": "[encoded data removed]",
      "text/plain": [
       "<Figure size 1200x400 with 1 Axes>"
      ]
     },
     "metadata": {},
     "output_type": "display_data"
    }
   ],
   "source": [
    "authors = ['xeno-by', 'soc']\n",
    "file = 'src/compiler/scala/reflect/reify/phases/Calculate.scala'\n",
    "\n",
    "# Filtrar dataframe por autor. Puede usar la variable data.\n",
    "by_author = data[data['user'].isin(authors)]\n",
    "\n",
    "# Filtrar resultado anterior por determinado archivo\n",
    "by_file = by_author[by_author['file'] == file]\n",
    "\n",
    "# Agrupar y contar el número de pull requests echos por cada usuario en cada año. Agrupar por usuario y año\n",
    "grouped = by_file.groupby(['user', 'year'])['pid'].count().reset_index()\n",
    "\n",
    "# Convertir tabla usando pivot table, los index serán el año, las columnas los usuarios, y los valores será el conteo de pid. Valores default 0.\n",
    "by_file_wide = grouped.pivot_table(index='year', columns='user', values='pid', fill_value=0)\n",
    "\n",
    "# Grafica de barra de los resultados\n",
    "by_file_wide.plot(kind='bar', figsize=(12, 4))"
   ]
  },
  {
   "cell_type": "code",
   "execution_count": null,
   "metadata": {},
   "outputs": [],
   "source": []
  }
 ],
 "metadata": {
  "kernelspec": {
   "display_name": "Python 3 (ipykernel)",
   "language": "python",
   "name": "python3"
  },
  "language_info": {
   "codemirror_mode": {
    "name": "ipython",
    "version": 3
   },
   "file_extension": ".py",
   "mimetype": "text/x-python",
   "name": "python",
   "nbconvert_exporter": "python",
   "pygments_lexer": "ipython3",
   "version": "3.12.6"
  }
 },
 "nbformat": 4,
 "nbformat_minor": 4
}
